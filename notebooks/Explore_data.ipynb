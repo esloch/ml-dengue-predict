{
 "cells": [
  {
   "cell_type": "code",
   "execution_count": 5,
   "id": "59d01904-7e85-4232-be8f-8f9233b5b56c",
   "metadata": {},
   "outputs": [],
   "source": [
    "import pandas as pd"
   ]
  },
  {
   "cell_type": "code",
   "execution_count": 8,
   "id": "679b664f-5eb5-43f4-81c5-ca20353a41bb",
   "metadata": {},
   "outputs": [],
   "source": [
    "df = pd.read_csv(\"../fetchinfodata/dataset/weather_notification_SC_2010-01-01_2023-08-30.csv\", )"
   ]
  },
  {
   "cell_type": "code",
   "execution_count": 9,
   "id": "01310109-ec11-4356-8cb8-ff78edeaaf8d",
   "metadata": {},
   "outputs": [
    {
     "name": "stdout",
     "output_type": "stream",
     "text": [
      "<class 'pandas.core.frame.DataFrame'>\n",
      "RangeIndex: 522809 entries, 0 to 522808\n",
      "Data columns (total 11 columns):\n",
      " #   Column          Non-Null Count   Dtype  \n",
      "---  ------          --------------   -----  \n",
      " 0   Unnamed: 0      522809 non-null  int64  \n",
      " 1   uf              522809 non-null  object \n",
      " 2   geocodigo       522809 non-null  int64  \n",
      " 3   nome_municipio  522809 non-null  object \n",
      " 4   dt_notific      522809 non-null  object \n",
      " 5   se_notif        522809 non-null  int64  \n",
      " 6   ano_notif       522809 non-null  int64  \n",
      " 7   temp_med        522809 non-null  float64\n",
      " 8   precip_med      522809 non-null  float64\n",
      " 9   pressao_med     522809 non-null  float64\n",
      " 10  umid_med        522809 non-null  float64\n",
      "dtypes: float64(4), int64(4), object(3)\n",
      "memory usage: 43.9+ MB\n"
     ]
    }
   ],
   "source": [
    "df.info()"
   ]
  },
  {
   "cell_type": "markdown",
   "id": "1f527540-f29f-4dcb-8273-9a6cba516b7f",
   "metadata": {},
   "source": [
    "\n",
    "\n",
    "<center><h1> Previsão de Epidemias de Dengue Utilizando Modelos de Aprendizado de Máquina: Um Estudo com Dados do Sistema Infodengue</h1></center>"
   ]
  },
  {
   "cell_type": "code",
   "execution_count": null,
   "id": "2015f893-84f8-485f-af0b-f2b1f607e7a0",
   "metadata": {},
   "outputs": [],
   "source": []
  }
 ],
 "metadata": {
  "kernelspec": {
   "display_name": "Python 3 (ipykernel)",
   "language": "python",
   "name": "python3"
  },
  "language_info": {
   "codemirror_mode": {
    "name": "ipython",
    "version": 3
   },
   "file_extension": ".py",
   "mimetype": "text/x-python",
   "name": "python",
   "nbconvert_exporter": "python",
   "pygments_lexer": "ipython3",
   "version": "3.10.12"
  }
 },
 "nbformat": 4,
 "nbformat_minor": 5
}
